{
 "cells": [
  {
   "cell_type": "markdown",
   "id": "670693d1",
   "metadata": {},
   "source": [
    "# Google Play Store Apps Analysis\n"
   ]
  },
  {
   "cell_type": "markdown",
   "id": "ec1d8636",
   "metadata": {},
   "source": [
    "## introduction\n",
    "\n",
    ">Google Play Store  is a digital distribution service developed and operated by Google. It is an official apps store that provides variety content such as apps, books, magazines, music, movies and television programs. It serves an as platform to allow users with 'Google certified' Android operating system devices to donwload applications developed and published on the platform either with a charge or free of cost. With the rapidly growth of Android devices and apps, it would be interesting to perform data analysis on the data to obtain valuable insights.\n",
    "\n",
    ">The dataset that is going to be used is 'Google Play Store Apps' from Kaggle. It contains 10k of web scraped Play Store apps data for analysing the Android market \n",
    "\n",
    ">you can get the dataset from https://www.kaggle.com/datasets/lava18/google-play-store-apps"
   ]
  },
  {
   "cell_type": "markdown",
   "id": "b927ff93",
   "metadata": {},
   "source": [
    "### Description of App Dataset columns\n",
    " 1- App : The name of the app\n",
    "\n",
    " 2- Category : The category of the app\n",
    "\n",
    " 3- Rating : The rating of the app in the Play Store\n",
    "\n",
    " 4- Reviews : The number of reviews of the app\n",
    "\n",
    " 5- Size : The size of the app\n",
    "\n",
    " 6- Install : The number of installs of the app\n",
    "\n",
    " 7- Type : The type of the app (Free/Paid)\n",
    "\n",
    " 8- price : of the app (0 if it is Free)\n",
    "\n",
    " 9- Content Rating :The appropiate target audience of the app\n",
    "\n",
    " 10- Genres: The genre of the app\n",
    "\n",
    " 11- Last Updated : The date when the app was last updated\n",
    "\n",
    " 12- Current Ver : The current version of the app\n",
    "\n",
    " 13- Android Ver : The minimum Android version required to run the app"
   ]
  },
  {
   "cell_type": "markdown",
   "id": "c4c751d9",
   "metadata": {},
   "source": [
    "## Data Preparation & Exploration  \n"
   ]
  },
  {
   "cell_type": "code",
   "execution_count": 40,
   "id": "9e6a0a7f",
   "metadata": {},
   "outputs": [],
   "source": [
    "#import the necessary libraries\n",
    "import numpy as np \n",
    "import matplotlib.pyplot as plt\n",
    "import pandas as pd \n",
    "import seaborn as sns\n",
    "%matplotlib inline"
   ]
  },
  {
   "cell_type": "code",
   "execution_count": null,
   "id": "a70c5801",
   "metadata": {},
   "outputs": [],
   "source": [
    "# Upgrade pandas to use dataframe.explode() function. \n",
    "!pip install --upgrade pandas"
   ]
  },
  {
   "cell_type": "code",
   "execution_count": 41,
   "id": "c9ebbe5e",
   "metadata": {},
   "outputs": [],
   "source": [
    "#loading Apps dataset\n",
    "df = pd.read_csv('GooglePlayData/apps.csv')"
   ]
  },
  {
   "cell_type": "code",
   "execution_count": null,
   "id": "337e656d",
   "metadata": {},
   "outputs": [],
   "source": [
    "# look at the first 10 records in the apps dataframe\n",
    "df.sample(5)"
   ]
  },
  {
   "cell_type": "code",
   "execution_count": null,
   "id": "6ee7b8e4",
   "metadata": {},
   "outputs": [],
   "source": [
    "#to know the number of rows and columns\n",
    "print(df.shape)"
   ]
  },
  {
   "cell_type": "code",
   "execution_count": null,
   "id": "4baeac71",
   "metadata": {},
   "outputs": [],
   "source": [
    "#to explore Apps columns dataframe\n",
    "#values of App column \n",
    "df['App'].unique()"
   ]
  },
  {
   "cell_type": "code",
   "execution_count": null,
   "id": "bfd4c960",
   "metadata": {},
   "outputs": [],
   "source": [
    "#to explore Apps dataframe\n",
    "# type of Type\n",
    "df['Type'].unique()"
   ]
  },
  {
   "cell_type": "code",
   "execution_count": null,
   "id": "70504bb8",
   "metadata": {},
   "outputs": [],
   "source": [
    "# values in category column\n",
    "df['Category'].unique()"
   ]
  },
  {
   "cell_type": "code",
   "execution_count": null,
   "id": "c1077184",
   "metadata": {},
   "outputs": [],
   "source": [
    "# type of Content Rating\n",
    "df['Content Rating'].unique()"
   ]
  },
  {
   "cell_type": "code",
   "execution_count": null,
   "id": "fa96a773",
   "metadata": {},
   "outputs": [],
   "source": [
    "##to explore Appsdata \n",
    "df.info()"
   ]
  },
  {
   "cell_type": "code",
   "execution_count": 42,
   "id": "cfc9f156",
   "metadata": {},
   "outputs": [
    {
     "name": "stdout",
     "output_type": "stream",
     "text": [
      "DataFrame has 0 duplicate values\n"
     ]
    }
   ],
   "source": [
    "# to check for duplicates \n",
    "df.duplicated().sum()\n",
    "print(f\"DataFrame has {df.duplicated().sum()} duplicate values\")"
   ]
  },
  {
   "cell_type": "code",
   "execution_count": null,
   "id": "65e3b49d",
   "metadata": {},
   "outputs": [],
   "source": [
    "# check on null values\n",
    "df.isnull().sum()"
   ]
  },
  {
   "cell_type": "code",
   "execution_count": null,
   "id": "f4029af4",
   "metadata": {
    "scrolled": true
   },
   "outputs": [],
   "source": [
    "# to Explore the describtive statistics of Apps dataframe\n",
    "df.describe()"
   ]
  },
  {
   "cell_type": "markdown",
   "id": "b1e5fe8f",
   "metadata": {},
   "source": [
    "## Data Cleaning  "
   ]
  },
  {
   "cell_type": "markdown",
   "id": "63e027e1",
   "metadata": {},
   "source": [
    ">in this section I will clean data by:\n",
    "\n",
    "\n",
    "      1- handle with null values in (Rating , size , current ver , Android ver)\n",
    "\n",
    "      2- Editing incorrect rows in (installs , prise) \n",
    "\n",
    "      3- changing the datatype of columns(installs , price , last_updated )"
   ]
  },
  {
   "cell_type": "markdown",
   "id": "5902cda5",
   "metadata": {},
   "source": [
    "### 1- Handle with null values "
   ]
  },
  {
   "cell_type": "code",
   "execution_count": 43,
   "id": "7abea231",
   "metadata": {},
   "outputs": [],
   "source": [
    "# handling with Rating&size values by mean using fillna()\n",
    "def replace_with_mean(series):\n",
    "    \"\"\"\n",
    "    Given a series, replace the rows with null values \n",
    "    with mean values\n",
    "    \"\"\"\n",
    "    return series.fillna(series.mean())\n",
    "\n",
    "df['Rating'] =df['Rating'].transform(replace_with_mean)\n",
    "df['Size']= df['Size'].transform(replace_with_mean)"
   ]
  },
  {
   "cell_type": "code",
   "execution_count": 44,
   "id": "ad64edd0",
   "metadata": {},
   "outputs": [],
   "source": [
    "#handling with current ver& Android Ver Values by replacing with zero \n",
    "def replace_with_zero(series):\n",
    "    return series.fillna(0)\n",
    "\n",
    "df['Current Ver']= df['Current Ver'].transform(replace_with_zero)\n",
    "df['Android Ver']= df['Android Ver'].transform(replace_with_zero)"
   ]
  },
  {
   "cell_type": "code",
   "execution_count": 31,
   "id": "ed99464d",
   "metadata": {},
   "outputs": [
    {
     "data": {
      "text/plain": [
       "Unnamed: 0        0\n",
       "App               0\n",
       "Category          0\n",
       "Rating            0\n",
       "Reviews           0\n",
       "Size              0\n",
       "Installs          0\n",
       "Type              0\n",
       "Price             0\n",
       "Content Rating    0\n",
       "Genres            0\n",
       "Last Updated      0\n",
       "Current Ver       0\n",
       "Android Ver       0\n",
       "dtype: int64"
      ]
     },
     "execution_count": 31,
     "metadata": {},
     "output_type": "execute_result"
    }
   ],
   "source": [
    "df.isnull().sum()"
   ]
  },
  {
   "cell_type": "markdown",
   "id": "852933bf",
   "metadata": {},
   "source": [
    "### 2- Editing incorrect rows"
   ]
  },
  {
   "cell_type": "code",
   "execution_count": 45,
   "id": "54e99e46",
   "metadata": {},
   "outputs": [],
   "source": [
    "# removing '+' and '$' sign from installs and price columns\n",
    "\n",
    "#List of signs to remove \n",
    "chars_to_remove = ['+',',','$']\n",
    "# List of column names to Edit\n",
    "cols_to_Edit = ['Installs','Price']\n",
    "\n",
    "for col in cols_to_Edit:\n",
    "    for char in chars_to_remove:\n",
    "        df[col] = df[col].apply(lambda x: x.replace(char, ''))"
   ]
  },
  {
   "cell_type": "code",
   "execution_count": 46,
   "id": "7a2679d4",
   "metadata": {
    "scrolled": true
   },
   "outputs": [
    {
     "data": {
      "text/plain": [
       "array(['10000', '500000', '5000000', '50000000', '100000', '50000',\n",
       "       '1000000', '10000000', '5000', '100000000', '1000000000', '1000',\n",
       "       '500000000', '50', '100', '500', '10', '1', '5', '0'], dtype=object)"
      ]
     },
     "execution_count": 46,
     "metadata": {},
     "output_type": "execute_result"
    }
   ],
   "source": [
    "df['Installs'].unique()"
   ]
  },
  {
   "cell_type": "code",
   "execution_count": 47,
   "id": "4b89e15a",
   "metadata": {},
   "outputs": [
    {
     "data": {
      "text/plain": [
       "array(['0', '4.99', '3.99', '6.99', '1.49', '2.99', '7.99', '5.99',\n",
       "       '3.49', '1.99', '9.99', '7.49', '0.99', '9.00', '5.49', '10.00',\n",
       "       '24.99', '11.99', '79.99', '16.99', '14.99', '1.00', '29.99',\n",
       "       '12.99', '2.49', '10.99', '1.50', '19.99', '15.99', '33.99',\n",
       "       '74.99', '39.99', '3.95', '4.49', '1.70', '8.99', '2.00', '3.88',\n",
       "       '25.99', '399.99', '17.99', '400.00', '3.02', '1.76', '4.84',\n",
       "       '4.77', '1.61', '2.50', '1.59', '6.49', '1.29', '5.00', '13.99',\n",
       "       '299.99', '379.99', '37.99', '18.99', '389.99', '19.90', '8.49',\n",
       "       '1.75', '14.00', '4.85', '46.99', '109.99', '154.99', '3.08',\n",
       "       '2.59', '4.80', '1.96', '19.40', '3.90', '4.59', '15.46', '3.04',\n",
       "       '4.29', '2.60', '3.28', '4.60', '28.99', '2.95', '2.90', '1.97',\n",
       "       '200.00', '89.99', '2.56', '30.99', '3.61', '394.99', '1.26',\n",
       "       '1.20', '1.04'], dtype=object)"
      ]
     },
     "execution_count": 47,
     "metadata": {},
     "output_type": "execute_result"
    }
   ],
   "source": [
    "df['Price'].unique()"
   ]
  },
  {
   "cell_type": "markdown",
   "id": "d66214c8",
   "metadata": {},
   "source": [
    "### 3- changing the datatype"
   ]
  },
  {
   "cell_type": "code",
   "execution_count": 48,
   "id": "3353fc55",
   "metadata": {},
   "outputs": [],
   "source": [
    "#convert price & installs to float\n",
    "for x in ['Price','Installs']:\n",
    "    df[x]= df[x].astype(float)\n",
    "# Convert last Updated to datetime\n",
    "df[\"Last Updated\"] = pd.to_datetime(df[\"Last Updated\"])"
   ]
  },
  {
   "cell_type": "code",
   "execution_count": 49,
   "id": "e8388305",
   "metadata": {
    "scrolled": true
   },
   "outputs": [
    {
     "data": {
      "text/plain": [
       "Unnamed: 0                 int64\n",
       "App                       object\n",
       "Category                  object\n",
       "Rating                   float64\n",
       "Reviews                    int64\n",
       "Size                     float64\n",
       "Installs                 float64\n",
       "Type                      object\n",
       "Price                    float64\n",
       "Content Rating            object\n",
       "Genres                    object\n",
       "Last Updated      datetime64[ns]\n",
       "Current Ver               object\n",
       "Android Ver               object\n",
       "dtype: object"
      ]
     },
     "execution_count": 49,
     "metadata": {},
     "output_type": "execute_result"
    }
   ],
   "source": [
    "df.dtypes"
   ]
  },
  {
   "cell_type": "markdown",
   "id": "2e61a184",
   "metadata": {},
   "source": [
    "### 4- Rename columns"
   ]
  },
  {
   "cell_type": "code",
   "execution_count": 50,
   "id": "1fa06485",
   "metadata": {},
   "outputs": [
    {
     "data": {
      "text/html": [
       "<div>\n",
       "<style scoped>\n",
       "    .dataframe tbody tr th:only-of-type {\n",
       "        vertical-align: middle;\n",
       "    }\n",
       "\n",
       "    .dataframe tbody tr th {\n",
       "        vertical-align: top;\n",
       "    }\n",
       "\n",
       "    .dataframe thead th {\n",
       "        text-align: right;\n",
       "    }\n",
       "</style>\n",
       "<table border=\"1\" class=\"dataframe\">\n",
       "  <thead>\n",
       "    <tr style=\"text-align: right;\">\n",
       "      <th></th>\n",
       "      <th>Unnamed: 0</th>\n",
       "      <th>App</th>\n",
       "      <th>Category</th>\n",
       "      <th>Rating</th>\n",
       "      <th>Reviews</th>\n",
       "      <th>Size</th>\n",
       "      <th>Installs</th>\n",
       "      <th>Type</th>\n",
       "      <th>Price</th>\n",
       "      <th>Content_Rating</th>\n",
       "      <th>Genres</th>\n",
       "      <th>Last_Updated</th>\n",
       "      <th>Current_Ver</th>\n",
       "      <th>Android_Ver</th>\n",
       "    </tr>\n",
       "  </thead>\n",
       "  <tbody>\n",
       "  </tbody>\n",
       "</table>\n",
       "</div>"
      ],
      "text/plain": [
       "Empty DataFrame\n",
       "Columns: [Unnamed: 0, App, Category, Rating, Reviews, Size, Installs, Type, Price, Content_Rating, Genres, Last_Updated, Current_Ver, Android_Ver]\n",
       "Index: []"
      ]
     },
     "execution_count": 50,
     "metadata": {},
     "output_type": "execute_result"
    }
   ],
   "source": [
    "# rename columns \n",
    "df.rename(columns={'Content Rating':'Content_Rating',\n",
    "                   'Last Updated':'Last_Updated',\n",
    "                   'Current Ver':'Current_Ver',\n",
    "                   'Android Ver':'Android_Ver',\n",
    "                  },inplace=True)\n",
    "\n",
    "#display the new name of columns \n",
    "df.head(0)"
   ]
  },
  {
   "cell_type": "markdown",
   "id": "99f7bad0",
   "metadata": {},
   "source": [
    "## Saving Data to CSV "
   ]
  },
  {
   "cell_type": "code",
   "execution_count": 25,
   "id": "7383da63",
   "metadata": {},
   "outputs": [],
   "source": [
    "df.to_csv('GooglePlayData/apps_Updated.csv')"
   ]
  }
 ],
 "metadata": {
  "kernelspec": {
   "display_name": "Python 3 (ipykernel)",
   "language": "python",
   "name": "python3"
  },
  "language_info": {
   "codemirror_mode": {
    "name": "ipython",
    "version": 3
   },
   "file_extension": ".py",
   "mimetype": "text/x-python",
   "name": "python",
   "nbconvert_exporter": "python",
   "pygments_lexer": "ipython3",
   "version": "3.9.13"
  }
 },
 "nbformat": 4,
 "nbformat_minor": 5
}
